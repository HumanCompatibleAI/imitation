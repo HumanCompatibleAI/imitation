{
 "cells": [
  {
   "cell_type": "markdown",
   "metadata": {},
   "source": [
    "# Demonstration of MCE IRL code & environments\n",
    "\n",
    "This is just tabular environments & vanilla MCE IRL."
   ]
  },
  {
   "cell_type": "code",
   "execution_count": 45,
   "metadata": {},
   "outputs": [
    {
     "name": "stdout",
     "output_type": "stream",
     "text": [
      "The autoreload extension is already loaded. To reload it, use:\n",
      "  %reload_ext autoreload\n"
     ]
    }
   ],
   "source": [
    "%matplotlib inline\n",
    "%load_ext autoreload\n",
    "%autoreload 2\n",
    "\n",
    "import copy\n",
    "\n",
    "import numpy as np\n",
    "import seaborn as sns\n",
    "import pandas as pd\n",
    "import matplotlib.pyplot as plt\n",
    "import scipy\n",
    "import torch as th\n",
    "\n",
    "import imitation.algorithms.mce_irl as tirl\n",
    "import imitation.envs.examples.model_envs as menv\n",
    "import imitation.rewards.reward_nets as rn\n",
    "\n",
    "sns.set(context=\"notebook\")\n",
    "\n",
    "np.random.seed(42)"
   ]
  },
  {
   "cell_type": "markdown",
   "metadata": {},
   "source": [
    "# IRL on a random MDP\n",
    "\n",
    "Testing both linear reward models & MLP reward models."
   ]
  },
  {
   "cell_type": "code",
   "execution_count": 46,
   "metadata": {},
   "outputs": [],
   "source": [
    "mdp = menv.RandomMDP(\n",
    "    n_states=16,\n",
    "    n_actions=3,\n",
    "    branch_factor=2,\n",
    "    horizon=10,\n",
    "    random_obs=True,\n",
    "    obs_dim=5,\n",
    "    generator_seed=42,\n",
    ")\n",
    "V, Q, pi = tirl.mce_partition_fh(mdp)\n",
    "Dt, D = tirl.mce_occupancy_measures(mdp, pi=pi)\n",
    "demo_counts = D @ mdp.observation_matrix\n",
    "(obs_dim,) = demo_counts.shape"
   ]
  },
  {
   "cell_type": "code",
   "execution_count": 47,
   "metadata": {},
   "outputs": [
    {
     "name": "stdout",
     "output_type": "stream",
     "text": [
      "--------------------------\n",
      "| grad_norm   | 18.3     |\n",
      "| iteration   | 0        |\n",
      "| linf_delta  | 1.71     |\n",
      "| weight_norm | 0.868    |\n",
      "--------------------------\n"
     ]
    }
   ],
   "source": [
    "rmodel = rn.BasicRewardNet(\n",
    "    mdp.pomdp_observation_space,\n",
    "    mdp.action_space,\n",
    "    use_action=False,\n",
    "    use_next_state=False,\n",
    "    use_done=False,\n",
    "    hid_sizes=[],\n",
    ")\n",
    "opt = th.optim.Adam(rmodel.parameters(), lr=0.1)\n",
    "D_fake = tirl.MCEIRL(\n",
    "    D, mdp, rmodel, optimizer_cls=th.optim.Adam, optimizer_kwargs=dict(lr=0.1),\n",
    "    linf_eps=1e-1\n",
    ").train()"
   ]
  },
  {
   "cell_type": "code",
   "execution_count": 48,
   "metadata": {},
   "outputs": [
    {
     "name": "stdout",
     "output_type": "stream",
     "text": [
      "--------------------------\n",
      "| grad_norm   | 7.48     |\n",
      "| iteration   | 0        |\n",
      "| linf_delta  | 1.37     |\n",
      "| weight_norm | 6.08     |\n",
      "--------------------------\n",
      "--------------------------\n",
      "| grad_norm   | 17.7     |\n",
      "| iteration   | 100      |\n",
      "| linf_delta  | 0.375    |\n",
      "| weight_norm | 30.2     |\n",
      "--------------------------\n",
      "--------------------------\n",
      "| grad_norm   | 1.65     |\n",
      "| iteration   | 200      |\n",
      "| linf_delta  | 0.0695   |\n",
      "| weight_norm | 63.4     |\n",
      "--------------------------\n",
      "--------------------------\n",
      "| grad_norm   | 6.06     |\n",
      "| iteration   | 300      |\n",
      "| linf_delta  | 0.0527   |\n",
      "| weight_norm | 63.5     |\n",
      "--------------------------\n"
     ]
    }
   ],
   "source": [
    "rmodel = rn.BasicRewardNet(\n",
    "    mdp.pomdp_observation_space,\n",
    "    mdp.action_space,\n",
    "    use_action=False,\n",
    "    use_next_state=False,\n",
    "    use_done=False,\n",
    "    hid_sizes=[32, 32]\n",
    ")\n",
    "opt = th.optim.Adam(rmodel.parameters(), lr=0.1)\n",
    "D_fake = tirl.MCEIRL(\n",
    "    D, mdp, rmodel, optimizer_cls=th.optim.Adam, optimizer_kwargs=dict(lr=0.1),\n",
    "    linf_eps=1e-2\n",
    ").train()"
   ]
  },
  {
   "cell_type": "markdown",
   "metadata": {},
   "source": [
    "# Same thing, but on grid world\n",
    "\n",
    "The true reward here is not linear in the reduced feature space (i.e $(x,y)$ coordinates). Finding an appropriate linear reward is impossible (as I will demonstration), but an MLP should Just Work(tm)."
   ]
  },
  {
   "cell_type": "code",
   "execution_count": 49,
   "metadata": {},
   "outputs": [
    {
     "name": "stdout",
     "output_type": "stream",
     "text": [
      "--------------------------\n",
      "| grad_norm   | 3.89     |\n",
      "| iteration   | 0        |\n",
      "| linf_delta  | 2.02     |\n",
      "| weight_norm | 0.626    |\n",
      "--------------------------\n",
      "--------------------------\n",
      "| grad_norm   | 0.172    |\n",
      "| iteration   | 100      |\n",
      "| linf_delta  | 1.37     |\n",
      "| weight_norm | 4.74     |\n",
      "--------------------------\n",
      "--------------------------\n",
      "| grad_norm   | 0.0978   |\n",
      "| iteration   | 200      |\n",
      "| linf_delta  | 1.31     |\n",
      "| weight_norm | 6.46     |\n",
      "--------------------------\n",
      "--------------------------\n",
      "| grad_norm   | 0.0696   |\n",
      "| iteration   | 300      |\n",
      "| linf_delta  | 1.28     |\n",
      "| weight_norm | 7.69     |\n",
      "--------------------------\n",
      "--------------------------\n",
      "| grad_norm   | 0.054    |\n",
      "| iteration   | 400      |\n",
      "| linf_delta  | 1.26     |\n",
      "| weight_norm | 8.81     |\n",
      "--------------------------\n",
      "--------------------------\n",
      "| grad_norm   | 0.0437   |\n",
      "| iteration   | 500      |\n",
      "| linf_delta  | 1.25     |\n",
      "| weight_norm | 9.52     |\n",
      "--------------------------\n",
      "--------------------------\n",
      "| grad_norm   | 0.0362   |\n",
      "| iteration   | 600      |\n",
      "| linf_delta  | 1.24     |\n",
      "| weight_norm | 10.8     |\n",
      "--------------------------\n",
      "--------------------------\n",
      "| grad_norm   | 0.0305   |\n",
      "| iteration   | 700      |\n",
      "| linf_delta  | 1.23     |\n",
      "| weight_norm | 11.5     |\n",
      "--------------------------\n",
      "--------------------------\n",
      "| grad_norm   | 0.026    |\n",
      "| iteration   | 800      |\n",
      "| linf_delta  | 1.23     |\n",
      "| weight_norm | 13.1     |\n",
      "--------------------------\n",
      "--------------------------\n",
      "| grad_norm   | 0.0224   |\n",
      "| iteration   | 900      |\n",
      "| linf_delta  | 1.22     |\n",
      "| weight_norm | 15.9     |\n",
      "--------------------------\n"
     ]
    },
    {
     "data": {
      "image/png": "[encoded data removed]",
      "text/plain": [
       "<Figure size 432x288 with 1 Axes>"
      ]
     },
     "metadata": {},
     "output_type": "display_data"
    },
    {
     "data": {
      "image/png": "[encoded data removed]",
      "text/plain": [
       "<Figure size 432x288 with 1 Axes>"
      ]
     },
     "metadata": {},
     "output_type": "display_data"
    },
    {
     "data": {
      "image/png": "[encoded data removed]",
      "text/plain": [
       "<Figure size 432x288 with 2 Axes>"
      ]
     },
     "metadata": {},
     "output_type": "display_data"
    }
   ],
   "source": [
    "# Same experiments, but on grid world\n",
    "mdp = menv.CliffWorld(width=7, height=4, horizon=8, use_xy_obs=True)\n",
    "V, Q, pi = tirl.mce_partition_fh(mdp)\n",
    "Dt, D = tirl.mce_occupancy_measures(mdp, pi=pi)\n",
    "demo_counts = D @ mdp.observation_matrix\n",
    "(obs_dim,) = demo_counts.shape\n",
    "rmodel = rn.BasicRewardNet(\n",
    "    mdp.pomdp_observation_space,\n",
    "    mdp.action_space,\n",
    "    use_action=False,\n",
    "    use_next_state=False,\n",
    "    use_done=False,\n",
    "    hid_sizes=[],\n",
    ")\n",
    "D_fake = tirl.MCEIRL(\n",
    "    D, mdp, rmodel, optimizer_cls=th.optim.Adam, optimizer_kwargs=dict(lr=0.1),\n",
    "    linf_eps=0.1\n",
    ").train()\n",
    "\n",
    "mdp.draw_value_vec(D)\n",
    "plt.title(\"Cliff World $p(s)$\")\n",
    "plt.xlabel(\"x-coord\")\n",
    "plt.ylabel(\"y-coord\")\n",
    "plt.show()\n",
    "\n",
    "mdp.draw_value_vec(D_fake)\n",
    "plt.title(\"Occupancy for linear reward function\")\n",
    "plt.show()\n",
    "plt.subplot(1, 2, 1)\n",
    "mdp.draw_value_vec(\n",
    "    rmodel(th.as_tensor(mdp.observation_matrix), None, None, None).detach().numpy()\n",
    ")\n",
    "plt.title(\"Inferred reward\")\n",
    "plt.subplot(1, 2, 2)\n",
    "mdp.draw_value_vec(mdp.reward_matrix)\n",
    "plt.title(\"True reward\")\n",
    "plt.show()"
   ]
  },
  {
   "cell_type": "code",
   "execution_count": 50,
   "metadata": {},
   "outputs": [
    {
     "name": "stdout",
     "output_type": "stream",
     "text": [
      "--------------------------\n",
      "| grad_norm   | 29.4     |\n",
      "| iteration   | 0        |\n",
      "| linf_delta  | 2        |\n",
      "| weight_norm | 22.5     |\n",
      "--------------------------\n",
      "--------------------------\n",
      "| grad_norm   | 0.604    |\n",
      "| iteration   | 250      |\n",
      "| linf_delta  | 0.315    |\n",
      "| weight_norm | 24.3     |\n",
      "--------------------------\n",
      "--------------------------\n",
      "| grad_norm   | 0.255    |\n",
      "| iteration   | 500      |\n",
      "| linf_delta  | 0.149    |\n",
      "| weight_norm | 25.5     |\n",
      "--------------------------\n",
      "--------------------------\n",
      "| grad_norm   | 0.138    |\n",
      "| iteration   | 750      |\n",
      "| linf_delta  | 0.0835   |\n",
      "| weight_norm | 26.5     |\n",
      "--------------------------\n"
     ]
    },
    {
     "data": {
      "image/png": "[encoded data removed]",
      "text/plain": [
       "<Figure size 432x288 with 1 Axes>"
      ]
     },
     "metadata": {},
     "output_type": "display_data"
    },
    {
     "data": {
      "image/png": "[encoded data removed]",
      "text/plain": [
       "<Figure size 432x288 with 2 Axes>"
      ]
     },
     "metadata": {},
     "output_type": "display_data"
    }
   ],
   "source": [
    "rmodel = rn.BasicRewardNet(\n",
    "    mdp.pomdp_observation_space,\n",
    "    mdp.action_space,\n",
    "    use_action=False,\n",
    "    use_next_state=False,\n",
    "    use_done=False,\n",
    "    hid_sizes=[1024],\n",
    "    activation=th.nn.ReLU\n",
    ")\n",
    "D_fake_mlp = tirl.MCEIRL(\n",
    "    D, mdp, rmodel, linf_eps=3e-2, log_interval=250,\n",
    "    optimizer_cls=th.optim.Adam, optimizer_kwargs=dict(lr=1e-3),\n",
    ").train()\n",
    "mdp.draw_value_vec(D_fake_mlp)\n",
    "plt.title(\"Occupancy for MLP reward function\")\n",
    "plt.show()\n",
    "plt.subplot(1, 2, 1)\n",
    "mdp.draw_value_vec(\n",
    "    rmodel(th.as_tensor(mdp.observation_matrix), None, None, None).detach().numpy()\n",
    ")\n",
    "plt.title(\"Inferred reward\")\n",
    "plt.subplot(1, 2, 2)\n",
    "mdp.draw_value_vec(mdp.reward_matrix)\n",
    "plt.title(\"True reward\")\n",
    "plt.show()"
   ]
  },
  {
   "cell_type": "code",
   "execution_count": 53,
   "metadata": {},
   "outputs": [
    {
     "data": {
      "text/plain": [
       "Box([-inf -inf], [inf inf], (2,), float32)"
      ]
     },
     "execution_count": 53,
     "metadata": {},
     "output_type": "execute_result"
    }
   ],
   "source": [
    "mdp.pomdp_observation_space"
   ]
  },
  {
   "cell_type": "markdown",
   "metadata": {},
   "source": [
    "Notice that the inferred reward is absolutely nothing like the true reward, but the occupancy measure still (roughly) matches the true occupancy measure."
   ]
  }
 ],
 "metadata": {
  "interpreter": {
   "hash": "c6e4e9f98eb68ad3b7c296f83d20e6de614cb42e90992a65aa266555a3137d0d"
  },
  "kernelspec": {
   "display_name": "Python 3.10.4 ('base')",
   "language": "python",
   "name": "python3"
  },
  "language_info": {
   "codemirror_mode": {
    "name": "ipython",
    "version": 3
   },
   "file_extension": ".py",
   "mimetype": "text/x-python",
   "name": "python",
   "nbconvert_exporter": "python",
   "pygments_lexer": "ipython3",
   "version": "3.10.4"
  }
 },
 "nbformat": 4,
 "nbformat_minor": 4
}
