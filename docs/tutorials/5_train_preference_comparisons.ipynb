{
 "cells": [
  {
   "cell_type": "markdown",
   "metadata": {},
   "source": [
    "[download this notebook here](https://github.com/HumanCompatibleAI/imitation/blob/master/docs/tutorials/5_train_preference_comparisons.ipynb)\n",
    "# Learning a Reward Function using Preference Comparisons\n",
    "\n",
    "The preference comparisons algorithm learns a reward function by comparing trajectory segments to each other."
   ]
  },
  {
   "cell_type": "markdown",
   "metadata": {},
   "source": [
    "To set up the preference comparisons algorithm, we first need to set up a lot of its internals beforehand:"
   ]
  },
  {
   "cell_type": "code",
   "execution_count": 1,
   "metadata": {},
   "outputs": [],
   "source": [
    "from imitation.algorithms import preference_comparisons\n",
    "from imitation.rewards.reward_nets import BasicRewardNet\n",
    "from imitation.util.networks import RunningNorm\n",
    "from imitation.util.util import make_vec_env\n",
    "from imitation.policies.base import FeedForward32Policy, NormalizeFeaturesExtractor\n",
    "from stable_baselines3 import PPO\n",
    "import numpy as np\n",
    "\n",
    "rng = np.random.default_rng(0)\n",
    "\n",
    "venv = make_vec_env(\"Pendulum-v1\", rng=rng)\n",
    "\n",
    "reward_net = BasicRewardNet(\n",
    "    venv.observation_space, venv.action_space, normalize_input_layer=RunningNorm\n",
    ")\n",
    "\n",
    "fragmenter = preference_comparisons.RandomFragmenter(\n",
    "    warning_threshold=0,\n",
    "    rng=rng,\n",
    ")\n",
    "gatherer = preference_comparisons.SyntheticGatherer(rng=rng)\n",
    "preference_model = preference_comparisons.PreferenceModel(reward_net)\n",
    "reward_trainer = preference_comparisons.BasicRewardTrainer(\n",
    "    preference_model=preference_model,\n",
    "    loss=preference_comparisons.CrossEntropyRewardLoss(),\n",
    "    epochs=3,\n",
    "    rng=rng,\n",
    ")\n",
    "\n",
    "\n",
    "# Several hyperparameters (reward_epochs, ppo_clip_range, ppo_ent_coef,\n",
    "# ppo_gae_lambda, ppo_n_epochs, discount_factor, use_sde, sde_sample_freq,\n",
    "# ppo_lr, exploration_frac, num_iterations, initial_comparison_frac,\n",
    "# initial_epoch_multiplier, query_schedule) used in this example have been\n",
    "# approximately fine-tuned to reach a reasonable level of performance.\n",
    "agent = PPO(\n",
    "    policy=FeedForward32Policy,\n",
    "    policy_kwargs=dict(\n",
    "        features_extractor_class=NormalizeFeaturesExtractor,\n",
    "        features_extractor_kwargs=dict(normalize_class=RunningNorm),\n",
    "    ),\n",
    "    env=venv,\n",
    "    seed=0,\n",
    "    n_steps=2048 // venv.num_envs,\n",
    "    batch_size=64,\n",
    "    ent_coef=0.01,\n",
    "    learning_rate=2e-3,\n",
    "    clip_range=0.1,\n",
    "    gae_lambda=0.95,\n",
    "    gamma=0.97,\n",
    "    n_epochs=10,\n",
    ")\n",
    "\n",
    "trajectory_generator = preference_comparisons.AgentTrainer(\n",
    "    algorithm=agent,\n",
    "    reward_fn=reward_net,\n",
    "    venv=venv,\n",
    "    exploration_frac=0.05,\n",
    "    rng=rng,\n",
    ")\n",
    "\n",
    "pref_comparisons = preference_comparisons.PreferenceComparisons(\n",
    "    trajectory_generator,\n",
    "    reward_net,\n",
    "    num_iterations=5, # Set to 60 for better performance\n",
    "    fragmenter=fragmenter,\n",
    "    preference_gatherer=gatherer,\n",
    "    reward_trainer=reward_trainer,\n",
    "    fragment_length=100,\n",
    "    transition_oversampling=1,\n",
    "    initial_comparison_frac=0.1,\n",
    "    allow_variable_horizon=False,\n",
    "    initial_epoch_multiplier=4,\n",
    "    query_schedule=\"hyperbolic\",\n",
    ")"
   ]
  },
  {
   "cell_type": "markdown",
   "metadata": {},
   "source": [
    "Then we can start training the reward model. Note that we need to specify the total timesteps that the agent should be trained and how many fragment comparisons should be made."
   ]
  },
  {
   "cell_type": "code",
   "execution_count": 2,
   "metadata": {},
   "outputs": [
    {
     "name": "stdout",
     "output_type": "stream",
     "text": [
      "Query schedule: [20, 51, 41, 34, 29, 25]\n",
      "Collecting 40 fragments (4000 transitions)\n",
      "Requested 3800 transitions but only 0 in buffer. Sampling 3800 additional transitions.\n",
      "Sampling 200 exploratory transitions.\n",
      "Creating fragment pairs\n",
      "Gathering preferences\n",
      "Dataset now contains 20 comparisons\n"
     ]
    },
    {
     "data": {
      "application/vnd.jupyter.widget-view+json": {
       "model_id": "c5d4655a0f714788a15a407de89a0cb3",
       "version_major": 2,
       "version_minor": 0
      },
      "text/plain": [
       "Training reward model:   0%|          | 0/12 [00:00<?, ?it/s]"
      ]
     },
     "metadata": {},
     "output_type": "display_data"
    },
    {
     "name": "stdout",
     "output_type": "stream",
     "text": [
      "Training agent for 1000 timesteps\n",
      "----------------------------------------------------\n",
      "| raw/                                 |           |\n",
      "|    agent/rollout/ep_len_mean         | 200       |\n",
      "|    agent/rollout/ep_rew_mean         | -1.44e+03 |\n",
      "|    agent/rollout/ep_rew_wrapped_mean | -7.9      |\n",
      "|    agent/time/fps                    | 16266     |\n",
      "|    agent/time/iterations             | 1         |\n",
      "|    agent/time/time_elapsed           | 0         |\n",
      "|    agent/time/total_timesteps        | 2048      |\n",
      "----------------------------------------------------\n",
      "-------------------------------------------------------\n",
      "| mean/                                   |           |\n",
      "|    agent/rollout/ep_len_mean            | 200       |\n",
      "|    agent/rollout/ep_rew_mean            | -1.44e+03 |\n",
      "|    agent/rollout/ep_rew_wrapped_mean    | -7.9      |\n",
      "|    agent/time/fps                       | 1.63e+04  |\n",
      "|    agent/time/iterations                | 1         |\n",
      "|    agent/time/time_elapsed              | 0         |\n",
      "|    agent/time/total_timesteps           | 2.05e+03  |\n",
      "|    agent/train/approx_kl                | 0.00121   |\n",
      "|    agent/train/clip_fraction            | 0.0601    |\n",
      "|    agent/train/clip_range               | 0.1       |\n",
      "|    agent/train/entropy_loss             | -1.42     |\n",
      "|    agent/train/explained_variance       | -0.302    |\n",
      "|    agent/train/learning_rate            | 0.002     |\n",
      "|    agent/train/loss                     | 0.0355    |\n",
      "|    agent/train/n_updates                | 10        |\n",
      "|    agent/train/policy_gradient_loss     | -0.00111  |\n",
      "|    agent/train/std                      | 1.01      |\n",
      "|    agent/train/value_loss               | 0.148     |\n",
      "|    preferences/entropy                  | 1.97e-06  |\n",
      "|    reward/epoch-0/train/accuracy        | 0.95      |\n",
      "|    reward/epoch-0/train/gt_reward_loss  | 1.42e-07  |\n",
      "|    reward/epoch-0/train/loss            | 0.141     |\n",
      "|    reward/epoch-1/train/accuracy        | 0.95      |\n",
      "|    reward/epoch-1/train/gt_reward_loss  | 1.42e-07  |\n",
      "|    reward/epoch-1/train/loss            | 0.124     |\n",
      "|    reward/epoch-10/train/accuracy       | 0.95      |\n",
      "|    reward/epoch-10/train/gt_reward_loss | 1.42e-07  |\n",
      "|    reward/epoch-10/train/loss           | 0.0622    |\n",
      "|    reward/epoch-11/train/accuracy       | 0.95      |\n",
      "|    reward/epoch-11/train/gt_reward_loss | 1.42e-07  |\n",
      "|    reward/epoch-11/train/loss           | 0.058     |\n",
      "|    reward/epoch-2/train/accuracy        | 0.95      |\n",
      "|    reward/epoch-2/train/gt_reward_loss  | 1.42e-07  |\n",
      "|    reward/epoch-2/train/loss            | 0.111     |\n",
      "|    reward/epoch-3/train/accuracy        | 0.95      |\n",
      "|    reward/epoch-3/train/gt_reward_loss  | 1.42e-07  |\n",
      "|    reward/epoch-3/train/loss            | 0.102     |\n",
      "|    reward/epoch-4/train/accuracy        | 0.95      |\n",
      "|    reward/epoch-4/train/gt_reward_loss  | 1.42e-07  |\n",
      "|    reward/epoch-4/train/loss            | 0.0947    |\n",
      "|    reward/epoch-5/train/accuracy        | 0.95      |\n",
      "|    reward/epoch-5/train/gt_reward_loss  | 1.42e-07  |\n",
      "|    reward/epoch-5/train/loss            | 0.0885    |\n",
      "|    reward/epoch-6/train/accuracy        | 0.95      |\n",
      "|    reward/epoch-6/train/gt_reward_loss  | 1.42e-07  |\n",
      "|    reward/epoch-6/train/loss            | 0.0824    |\n",
      "|    reward/epoch-7/train/accuracy        | 0.95      |\n",
      "|    reward/epoch-7/train/gt_reward_loss  | 1.42e-07  |\n",
      "|    reward/epoch-7/train/loss            | 0.0767    |\n",
      "|    reward/epoch-8/train/accuracy        | 0.95      |\n",
      "|    reward/epoch-8/train/gt_reward_loss  | 1.42e-07  |\n",
      "|    reward/epoch-8/train/loss            | 0.0716    |\n",
      "|    reward/epoch-9/train/accuracy        | 0.95      |\n",
      "|    reward/epoch-9/train/gt_reward_loss  | 1.42e-07  |\n",
      "|    reward/epoch-9/train/loss            | 0.0669    |\n",
      "| reward/                                 |           |\n",
      "|    final/train/accuracy                 | 0.95      |\n",
      "|    final/train/gt_reward_loss           | 1.42e-07  |\n",
      "|    final/train/loss                     | 0.058     |\n",
      "-------------------------------------------------------\n",
      "Collecting 102 fragments (10200 transitions)\n",
      "Requested 9690 transitions but only 1600 in buffer. Sampling 8090 additional transitions.\n",
      "Sampling 510 exploratory transitions.\n",
      "Creating fragment pairs\n",
      "Gathering preferences\n",
      "Dataset now contains 71 comparisons\n"
     ]
    },
    {
     "data": {
      "application/vnd.jupyter.widget-view+json": {
       "model_id": "bfdc8e741dc74566953e77956db39946",
       "version_major": 2,
       "version_minor": 0
      },
      "text/plain": [
       "Training reward model:   0%|          | 0/3 [00:00<?, ?it/s]"
      ]
     },
     "metadata": {},
     "output_type": "display_data"
    },
    {
     "name": "stdout",
     "output_type": "stream",
     "text": [
      "Training agent for 1000 timesteps\n",
      "-------------------------------------------------------\n",
      "| raw/                                 |              |\n",
      "|    agent/rollout/ep_len_mean         | 200          |\n",
      "|    agent/rollout/ep_rew_mean         | -1.31e+03    |\n",
      "|    agent/rollout/ep_rew_wrapped_mean | -1.27        |\n",
      "|    agent/time/fps                    | 17304        |\n",
      "|    agent/time/iterations             | 1            |\n",
      "|    agent/time/time_elapsed           | 0            |\n",
      "|    agent/time/total_timesteps        | 4096         |\n",
      "|    agent/train/approx_kl             | 0.0012146018 |\n",
      "|    agent/train/clip_fraction         | 0.0601       |\n",
      "|    agent/train/clip_range            | 0.1          |\n",
      "|    agent/train/entropy_loss          | -1.42        |\n",
      "|    agent/train/explained_variance    | -0.302       |\n",
      "|    agent/train/learning_rate         | 0.002        |\n",
      "|    agent/train/loss                  | 0.0355       |\n",
      "|    agent/train/n_updates             | 10           |\n",
      "|    agent/train/policy_gradient_loss  | -0.00111     |\n",
      "|    agent/train/std                   | 1.01         |\n",
      "|    agent/train/value_loss            | 0.148        |\n",
      "-------------------------------------------------------\n",
      "------------------------------------------------------\n",
      "| mean/                                  |           |\n",
      "|    agent/rollout/ep_len_mean           | 200       |\n",
      "|    agent/rollout/ep_rew_mean           | -1.31e+03 |\n",
      "|    agent/rollout/ep_rew_wrapped_mean   | -1.27     |\n",
      "|    agent/time/fps                      | 1.73e+04  |\n",
      "|    agent/time/iterations               | 1         |\n",
      "|    agent/time/time_elapsed             | 0         |\n",
      "|    agent/time/total_timesteps          | 4.1e+03   |\n",
      "|    agent/train/approx_kl               | 0.00138   |\n",
      "|    agent/train/clip_fraction           | 0.0612    |\n",
      "|    agent/train/clip_range              | 0.1       |\n",
      "|    agent/train/entropy_loss            | -1.43     |\n",
      "|    agent/train/explained_variance      | 0.727     |\n",
      "|    agent/train/learning_rate           | 0.002     |\n",
      "|    agent/train/loss                    | 0.107     |\n",
      "|    agent/train/n_updates               | 20        |\n",
      "|    agent/train/policy_gradient_loss    | -0.00232  |\n",
      "|    agent/train/std                     | 1         |\n",
      "|    agent/train/value_loss              | 0.253     |\n",
      "|    preferences/entropy                 | 5.3e-08   |\n",
      "|    reward/epoch-0/train/accuracy       | 0.979     |\n",
      "|    reward/epoch-0/train/gt_reward_loss | 3.11e-08  |\n",
      "|    reward/epoch-0/train/loss           | 0.0572    |\n",
      "|    reward/epoch-1/train/accuracy       | 0.99      |\n",
      "|    reward/epoch-1/train/gt_reward_loss | 3.19e-08  |\n",
      "|    reward/epoch-1/train/loss           | 0.0682    |\n",
      "|    reward/epoch-2/train/accuracy       | 0.99      |\n",
      "|    reward/epoch-2/train/gt_reward_loss | 1.32e-07  |\n",
      "|    reward/epoch-2/train/loss           | 0.0712    |\n",
      "| reward/                                |           |\n",
      "|    final/train/accuracy                | 0.99      |\n",
      "|    final/train/gt_reward_loss          | 1.32e-07  |\n",
      "|    final/train/loss                    | 0.0712    |\n",
      "------------------------------------------------------\n",
      "Collecting 82 fragments (8200 transitions)\n",
      "Requested 7790 transitions but only 1600 in buffer. Sampling 6190 additional transitions.\n",
      "Sampling 410 exploratory transitions.\n",
      "Creating fragment pairs\n",
      "Gathering preferences\n",
      "Dataset now contains 112 comparisons\n"
     ]
    },
    {
     "data": {
      "application/vnd.jupyter.widget-view+json": {
       "model_id": "a86e49485b71412b89bdf1780c07964b",
       "version_major": 2,
       "version_minor": 0
      },
      "text/plain": [
       "Training reward model:   0%|          | 0/3 [00:00<?, ?it/s]"
      ]
     },
     "metadata": {},
     "output_type": "display_data"
    },
    {
     "name": "stdout",
     "output_type": "stream",
     "text": [
      "Training agent for 1000 timesteps\n",
      "-------------------------------------------------------\n",
      "| raw/                                 |              |\n",
      "|    agent/rollout/ep_len_mean         | 200          |\n",
      "|    agent/rollout/ep_rew_mean         | -1.29e+03    |\n",
      "|    agent/rollout/ep_rew_wrapped_mean | 4.16         |\n",
      "|    agent/time/fps                    | 16904        |\n",
      "|    agent/time/iterations             | 1            |\n",
      "|    agent/time/time_elapsed           | 0            |\n",
      "|    agent/time/total_timesteps        | 6144         |\n",
      "|    agent/train/approx_kl             | 0.0013848462 |\n",
      "|    agent/train/clip_fraction         | 0.0612       |\n",
      "|    agent/train/clip_range            | 0.1          |\n",
      "|    agent/train/entropy_loss          | -1.43        |\n",
      "|    agent/train/explained_variance    | 0.727        |\n",
      "|    agent/train/learning_rate         | 0.002        |\n",
      "|    agent/train/loss                  | 0.107        |\n",
      "|    agent/train/n_updates             | 20           |\n",
      "|    agent/train/policy_gradient_loss  | -0.00232     |\n",
      "|    agent/train/std                   | 1            |\n",
      "|    agent/train/value_loss            | 0.253        |\n",
      "-------------------------------------------------------\n",
      "------------------------------------------------------\n",
      "| mean/                                  |           |\n",
      "|    agent/rollout/ep_len_mean           | 200       |\n",
      "|    agent/rollout/ep_rew_mean           | -1.29e+03 |\n",
      "|    agent/rollout/ep_rew_wrapped_mean   | 4.16      |\n",
      "|    agent/time/fps                      | 1.69e+04  |\n",
      "|    agent/time/iterations               | 1         |\n",
      "|    agent/time/time_elapsed             | 0         |\n",
      "|    agent/time/total_timesteps          | 6.14e+03  |\n",
      "|    agent/train/approx_kl               | 0.00241   |\n",
      "|    agent/train/clip_fraction           | 0.121     |\n",
      "|    agent/train/clip_range              | 0.1       |\n",
      "|    agent/train/entropy_loss            | -1.42     |\n",
      "|    agent/train/explained_variance      | 0.856     |\n",
      "|    agent/train/learning_rate           | 0.002     |\n",
      "|    agent/train/loss                    | 0.0469    |\n",
      "|    agent/train/n_updates               | 30        |\n",
      "|    agent/train/policy_gradient_loss    | -0.00575  |\n",
      "|    agent/train/std                     | 0.999     |\n",
      "|    agent/train/value_loss              | 0.211     |\n",
      "|    preferences/entropy                 | 7.18e-07  |\n",
      "|    reward/epoch-0/train/accuracy       | 0.984     |\n",
      "|    reward/epoch-0/train/gt_reward_loss | 4.06e-08  |\n",
      "|    reward/epoch-0/train/loss           | 0.0675    |\n",
      "|    reward/epoch-1/train/accuracy       | 0.992     |\n",
      "|    reward/epoch-1/train/gt_reward_loss | 3.97e-08  |\n",
      "|    reward/epoch-1/train/loss           | 0.0558    |\n",
      "|    reward/epoch-2/train/accuracy       | 0.992     |\n",
      "|    reward/epoch-2/train/gt_reward_loss | 3.99e-08  |\n",
      "|    reward/epoch-2/train/loss           | 0.0455    |\n",
      "| reward/                                |           |\n",
      "|    final/train/accuracy                | 0.992     |\n",
      "|    final/train/gt_reward_loss          | 3.99e-08  |\n",
      "|    final/train/loss                    | 0.0455    |\n",
      "------------------------------------------------------\n",
      "Collecting 68 fragments (6800 transitions)\n",
      "Requested 6460 transitions but only 1600 in buffer. Sampling 4860 additional transitions.\n",
      "Sampling 340 exploratory transitions.\n",
      "Creating fragment pairs\n",
      "Gathering preferences\n",
      "Dataset now contains 146 comparisons\n"
     ]
    },
    {
     "data": {
      "application/vnd.jupyter.widget-view+json": {
       "model_id": "e8e8d48ce51b4658876d8029c0d65872",
       "version_major": 2,
       "version_minor": 0
      },
      "text/plain": [
       "Training reward model:   0%|          | 0/3 [00:00<?, ?it/s]"
      ]
     },
     "metadata": {},
     "output_type": "display_data"
    },
    {
     "name": "stdout",
     "output_type": "stream",
     "text": [
      "Training agent for 1000 timesteps\n",
      "-------------------------------------------------------\n",
      "| raw/                                 |              |\n",
      "|    agent/rollout/ep_len_mean         | 200          |\n",
      "|    agent/rollout/ep_rew_mean         | -1.23e+03    |\n",
      "|    agent/rollout/ep_rew_wrapped_mean | 7.35         |\n",
      "|    agent/time/fps                    | 16701        |\n",
      "|    agent/time/iterations             | 1            |\n",
      "|    agent/time/time_elapsed           | 0            |\n",
      "|    agent/time/total_timesteps        | 8192         |\n",
      "|    agent/train/approx_kl             | 0.0024142354 |\n",
      "|    agent/train/clip_fraction         | 0.121        |\n",
      "|    agent/train/clip_range            | 0.1          |\n",
      "|    agent/train/entropy_loss          | -1.42        |\n",
      "|    agent/train/explained_variance    | 0.856        |\n",
      "|    agent/train/learning_rate         | 0.002        |\n",
      "|    agent/train/loss                  | 0.0469       |\n",
      "|    agent/train/n_updates             | 30           |\n",
      "|    agent/train/policy_gradient_loss  | -0.00575     |\n",
      "|    agent/train/std                   | 0.999        |\n",
      "|    agent/train/value_loss            | 0.211        |\n",
      "-------------------------------------------------------\n",
      "------------------------------------------------------\n",
      "| mean/                                  |           |\n",
      "|    agent/rollout/ep_len_mean           | 200       |\n",
      "|    agent/rollout/ep_rew_mean           | -1.23e+03 |\n",
      "|    agent/rollout/ep_rew_wrapped_mean   | 7.35      |\n",
      "|    agent/time/fps                      | 1.67e+04  |\n",
      "|    agent/time/iterations               | 1         |\n",
      "|    agent/time/time_elapsed             | 0         |\n",
      "|    agent/time/total_timesteps          | 8.19e+03  |\n",
      "|    agent/train/approx_kl               | 0.00302   |\n",
      "|    agent/train/clip_fraction           | 0.109     |\n",
      "|    agent/train/clip_range              | 0.1       |\n",
      "|    agent/train/entropy_loss            | -1.44     |\n",
      "|    agent/train/explained_variance      | 0.883     |\n",
      "|    agent/train/learning_rate           | 0.002     |\n",
      "|    agent/train/loss                    | 0.157     |\n",
      "|    agent/train/n_updates               | 40        |\n",
      "|    agent/train/policy_gradient_loss    | -0.00409  |\n",
      "|    agent/train/std                     | 1.03      |\n",
      "|    agent/train/value_loss              | 0.424     |\n",
      "|    preferences/entropy                 | 0.00227   |\n",
      "|    reward/epoch-0/train/accuracy       | 0.976     |\n",
      "|    reward/epoch-0/train/gt_reward_loss | 8.97e-05  |\n",
      "|    reward/epoch-0/train/loss           | 0.0652    |\n",
      "|    reward/epoch-1/train/accuracy       | 0.988     |\n",
      "|    reward/epoch-1/train/gt_reward_loss | 8.97e-05  |\n",
      "|    reward/epoch-1/train/loss           | 0.0487    |\n",
      "|    reward/epoch-2/train/accuracy       | 0.989     |\n",
      "|    reward/epoch-2/train/gt_reward_loss | 8.97e-05  |\n",
      "|    reward/epoch-2/train/loss           | 0.0551    |\n",
      "| reward/                                |           |\n",
      "|    final/train/accuracy                | 0.989     |\n",
      "|    final/train/gt_reward_loss          | 8.97e-05  |\n",
      "|    final/train/loss                    | 0.0551    |\n",
      "------------------------------------------------------\n",
      "Collecting 58 fragments (5800 transitions)\n",
      "Requested 5510 transitions but only 1600 in buffer. Sampling 3910 additional transitions.\n",
      "Sampling 290 exploratory transitions.\n",
      "Creating fragment pairs\n",
      "Gathering preferences\n",
      "Dataset now contains 175 comparisons\n"
     ]
    },
    {
     "data": {
      "application/vnd.jupyter.widget-view+json": {
       "model_id": "4790a9624836461ba3c886356d9a9526",
       "version_major": 2,
       "version_minor": 0
      },
      "text/plain": [
       "Training reward model:   0%|          | 0/3 [00:00<?, ?it/s]"
      ]
     },
     "metadata": {},
     "output_type": "display_data"
    },
    {
     "name": "stdout",
     "output_type": "stream",
     "text": [
      "Training agent for 1000 timesteps\n",
      "-------------------------------------------------------\n",
      "| raw/                                 |              |\n",
      "|    agent/rollout/ep_len_mean         | 200          |\n",
      "|    agent/rollout/ep_rew_mean         | -1.24e+03    |\n",
      "|    agent/rollout/ep_rew_wrapped_mean | 10           |\n",
      "|    agent/time/fps                    | 18293        |\n",
      "|    agent/time/iterations             | 1            |\n",
      "|    agent/time/time_elapsed           | 0            |\n",
      "|    agent/time/total_timesteps        | 10240        |\n",
      "|    agent/train/approx_kl             | 0.0030222698 |\n",
      "|    agent/train/clip_fraction         | 0.109        |\n",
      "|    agent/train/clip_range            | 0.1          |\n",
      "|    agent/train/entropy_loss          | -1.44        |\n",
      "|    agent/train/explained_variance    | 0.883        |\n",
      "|    agent/train/learning_rate         | 0.002        |\n",
      "|    agent/train/loss                  | 0.157        |\n",
      "|    agent/train/n_updates             | 40           |\n",
      "|    agent/train/policy_gradient_loss  | -0.00409     |\n",
      "|    agent/train/std                   | 1.03         |\n",
      "|    agent/train/value_loss            | 0.424        |\n",
      "-------------------------------------------------------\n",
      "------------------------------------------------------\n",
      "| mean/                                  |           |\n",
      "|    agent/rollout/ep_len_mean           | 200       |\n",
      "|    agent/rollout/ep_rew_mean           | -1.24e+03 |\n",
      "|    agent/rollout/ep_rew_wrapped_mean   | 10        |\n",
      "|    agent/time/fps                      | 1.83e+04  |\n",
      "|    agent/time/iterations               | 1         |\n",
      "|    agent/time/time_elapsed             | 0         |\n",
      "|    agent/time/total_timesteps          | 1.02e+04  |\n",
      "|    agent/train/approx_kl               | 0.00224   |\n",
      "|    agent/train/clip_fraction           | 0.111     |\n",
      "|    agent/train/clip_range              | 0.1       |\n",
      "|    agent/train/entropy_loss            | -1.45     |\n",
      "|    agent/train/explained_variance      | 0.946     |\n",
      "|    agent/train/learning_rate           | 0.002     |\n",
      "|    agent/train/loss                    | 0.0683    |\n",
      "|    agent/train/n_updates               | 50        |\n",
      "|    agent/train/policy_gradient_loss    | -0.00495  |\n",
      "|    agent/train/std                     | 1.04      |\n",
      "|    agent/train/value_loss              | 0.377     |\n",
      "|    preferences/entropy                 | 0.0389    |\n",
      "|    reward/epoch-0/train/accuracy       | 0.968     |\n",
      "|    reward/epoch-0/train/gt_reward_loss | 0.00948   |\n",
      "|    reward/epoch-0/train/loss           | 0.0684    |\n",
      "|    reward/epoch-1/train/accuracy       | 0.984     |\n",
      "|    reward/epoch-1/train/gt_reward_loss | 0.0094    |\n",
      "|    reward/epoch-1/train/loss           | 0.0538    |\n",
      "|    reward/epoch-2/train/accuracy       | 0.99      |\n",
      "|    reward/epoch-2/train/gt_reward_loss | 0.0094    |\n",
      "|    reward/epoch-2/train/loss           | 0.0486    |\n",
      "| reward/                                |           |\n",
      "|    final/train/accuracy                | 0.99      |\n",
      "|    final/train/gt_reward_loss          | 0.0094    |\n",
      "|    final/train/loss                    | 0.0486    |\n",
      "------------------------------------------------------\n",
      "Collecting 50 fragments (5000 transitions)\n",
      "Requested 4750 transitions but only 1600 in buffer. Sampling 3150 additional transitions.\n",
      "Sampling 250 exploratory transitions.\n",
      "Creating fragment pairs\n",
      "Gathering preferences\n",
      "Dataset now contains 200 comparisons\n"
     ]
    },
    {
     "data": {
      "application/vnd.jupyter.widget-view+json": {
       "model_id": "e6628f0b42134e7cafe3c81f6f35ce64",
       "version_major": 2,
       "version_minor": 0
      },
      "text/plain": [
       "Training reward model:   0%|          | 0/3 [00:00<?, ?it/s]"
      ]
     },
     "metadata": {},
     "output_type": "display_data"
    },
    {
     "name": "stdout",
     "output_type": "stream",
     "text": [
      "Training agent for 1000 timesteps\n",
      "------------------------------------------------------\n",
      "| raw/                                 |             |\n",
      "|    agent/rollout/ep_len_mean         | 200         |\n",
      "|    agent/rollout/ep_rew_mean         | -1.21e+03   |\n",
      "|    agent/rollout/ep_rew_wrapped_mean | 11.8        |\n",
      "|    agent/time/fps                    | 16639       |\n",
      "|    agent/time/iterations             | 1           |\n",
      "|    agent/time/time_elapsed           | 0           |\n",
      "|    agent/time/total_timesteps        | 12288       |\n",
      "|    agent/train/approx_kl             | 0.002242133 |\n",
      "|    agent/train/clip_fraction         | 0.111       |\n",
      "|    agent/train/clip_range            | 0.1         |\n",
      "|    agent/train/entropy_loss          | -1.45       |\n",
      "|    agent/train/explained_variance    | 0.946       |\n",
      "|    agent/train/learning_rate         | 0.002       |\n",
      "|    agent/train/loss                  | 0.0683      |\n",
      "|    agent/train/n_updates             | 50          |\n",
      "|    agent/train/policy_gradient_loss  | -0.00495    |\n",
      "|    agent/train/std                   | 1.04        |\n",
      "|    agent/train/value_loss            | 0.377       |\n",
      "------------------------------------------------------\n",
      "------------------------------------------------------\n",
      "| mean/                                  |           |\n",
      "|    agent/rollout/ep_len_mean           | 200       |\n",
      "|    agent/rollout/ep_rew_mean           | -1.21e+03 |\n",
      "|    agent/rollout/ep_rew_wrapped_mean   | 11.8      |\n",
      "|    agent/time/fps                      | 1.66e+04  |\n",
      "|    agent/time/iterations               | 1         |\n",
      "|    agent/time/time_elapsed             | 0         |\n",
      "|    agent/time/total_timesteps          | 1.23e+04  |\n",
      "|    agent/train/approx_kl               | 0.00368   |\n",
      "|    agent/train/clip_fraction           | 0.161     |\n",
      "|    agent/train/clip_range              | 0.1       |\n",
      "|    agent/train/entropy_loss            | -1.48     |\n",
      "|    agent/train/explained_variance      | 0.932     |\n",
      "|    agent/train/learning_rate           | 0.002     |\n",
      "|    agent/train/loss                    | 0.253     |\n",
      "|    agent/train/n_updates               | 60        |\n",
      "|    agent/train/policy_gradient_loss    | -0.0075   |\n",
      "|    agent/train/std                     | 1.07      |\n",
      "|    agent/train/value_loss              | 0.345     |\n",
      "|    preferences/entropy                 | 0.000497  |\n",
      "|    reward/epoch-0/train/accuracy       | 0.987     |\n",
      "|    reward/epoch-0/train/gt_reward_loss | 0.00806   |\n",
      "|    reward/epoch-0/train/loss           | 0.0682    |\n",
      "|    reward/epoch-1/train/accuracy       | 0.982     |\n",
      "|    reward/epoch-1/train/gt_reward_loss | 0.00806   |\n",
      "|    reward/epoch-1/train/loss           | 0.0577    |\n",
      "|    reward/epoch-2/train/accuracy       | 0.987     |\n",
      "|    reward/epoch-2/train/gt_reward_loss | 0.00806   |\n",
      "|    reward/epoch-2/train/loss           | 0.0524    |\n",
      "| reward/                                |           |\n",
      "|    final/train/accuracy                | 0.987     |\n",
      "|    final/train/gt_reward_loss          | 0.00806   |\n",
      "|    final/train/loss                    | 0.0524    |\n",
      "------------------------------------------------------\n"
     ]
    },
    {
     "data": {
      "text/plain": [
       "{'reward_loss': 0.05243225871319217, 'reward_accuracy': 0.9866071428571428}"
      ]
     },
     "execution_count": 2,
     "metadata": {},
     "output_type": "execute_result"
    }
   ],
   "source": [
    "pref_comparisons.train(\n",
    "    total_timesteps=5_000, \n",
    "    total_comparisons=200,\n",
    ")"
   ]
  },
  {
   "cell_type": "markdown",
   "metadata": {},
   "source": [
    "After we trained the reward network using the preference comparisons algorithm, we can wrap our environment with that learned reward."
   ]
  },
  {
   "cell_type": "code",
   "execution_count": 3,
   "metadata": {},
   "outputs": [],
   "source": [
    "from imitation.rewards.reward_wrapper import RewardVecEnvWrapper\n",
    "\n",
    "learned_reward_venv = RewardVecEnvWrapper(venv, reward_net.predict_processed)"
   ]
  },
  {
   "cell_type": "markdown",
   "metadata": {},
   "source": [
    "Next, we train an agent that sees only the shaped, learned reward."
   ]
  },
  {
   "cell_type": "code",
   "execution_count": 4,
   "metadata": {},
   "outputs": [
    {
     "data": {
      "text/plain": [
       "<stable_baselines3.ppo.ppo.PPO at 0x29dd4a6d0>"
      ]
     },
     "execution_count": 4,
     "metadata": {},
     "output_type": "execute_result"
    }
   ],
   "source": [
    "learner = PPO(\n",
    "    seed=0,\n",
    "    policy=FeedForward32Policy,\n",
    "    policy_kwargs=dict(\n",
    "        features_extractor_class=NormalizeFeaturesExtractor,\n",
    "        features_extractor_kwargs=dict(normalize_class=RunningNorm),\n",
    "    ),\n",
    "    env=learned_reward_venv,\n",
    "    batch_size=64,\n",
    "    ent_coef=0.01,\n",
    "    n_epochs=10,\n",
    "    n_steps=2048 // learned_reward_venv.num_envs,\n",
    "    clip_range=0.1,\n",
    "    gae_lambda=0.95,\n",
    "    gamma=0.97,\n",
    "    learning_rate=2e-3,\n",
    ")\n",
    "learner.learn(1000)  # Note: set to 100000 to train a proficient expert"
   ]
  },
  {
   "cell_type": "markdown",
   "metadata": {},
   "source": [
    "Then we can evaluate it using the original reward."
   ]
  },
  {
   "cell_type": "code",
   "execution_count": 8,
   "metadata": {},
   "outputs": [
    {
     "name": "stdout",
     "output_type": "stream",
     "text": [
      "Reward: -191 +/- 38\n"
     ]
    }
   ],
   "source": [
    "from stable_baselines3.common.evaluation import evaluate_policy\n",
    "\n",
    "n_eval_episodes = 10\n",
    "reward_mean, reward_std = evaluate_policy(learner.policy, venv, n_eval_episodes)\n",
    "reward_stderr = reward_std/np.sqrt(n_eval_episodes)\n",
    "print(f\"Reward: {reward_mean:.0f} +/- {reward_stderr:.0f}\")"
   ]
  },
  {
   "cell_type": "code",
   "execution_count": null,
   "metadata": {},
   "outputs": [],
   "source": []
  }
 ],
 "metadata": {
  "interpreter": {
   "hash": "439158cd89905785fcc749928062ade7bfccc3f087fab145e5671f895c635937"
  },
  "kernelspec": {
   "display_name": "Python 3 (ipykernel)",
   "language": "python",
   "name": "python3"
  },
  "language_info": {
   "codemirror_mode": {
    "name": "ipython",
    "version": 3
   },
   "file_extension": ".py",
   "mimetype": "text/x-python",
   "name": "python",
   "nbconvert_exporter": "python",
   "pygments_lexer": "ipython3",
   "version": "3.9.16"
  }
 },
 "nbformat": 4,
 "nbformat_minor": 2
}
