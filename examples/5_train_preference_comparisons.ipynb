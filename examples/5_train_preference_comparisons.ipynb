{
 "cells": [
  {
   "cell_type": "markdown",
   "metadata": {},
   "source": [
    "# Learning a Reward Function using Preference Comparisons\n",
    "\n",
    "The preference comparisons algorithm learns a reward function by comparing trajectory segments to each other."
   ]
  },
  {
   "cell_type": "markdown",
   "metadata": {},
   "source": [
    "To set up the preference comparisons algorithm, we first need to set up a lot of its internals beforehand:"
   ]
  },
  {
   "cell_type": "code",
   "execution_count": 1,
   "metadata": {},
   "outputs": [],
   "source": [
    "from imitation.algorithms import preference_comparisons\n",
    "from imitation.rewards.reward_nets import BasicRewardNet\n",
    "from imitation.util.networks import RunningNorm\n",
    "from imitation.policies.base import FeedForward32Policy, NormalizeFeaturesExtractor\n",
    "import gym\n",
    "from stable_baselines3.common.vec_env import DummyVecEnv\n",
    "from stable_baselines3 import PPO\n",
    "\n",
    "venv = DummyVecEnv([lambda: gym.make(\"Pendulum-v1\")] * 8)\n",
    "\n",
    "reward_net = BasicRewardNet(\n",
    "    venv.observation_space, venv.action_space, normalize_input_layer=RunningNorm\n",
    ")\n",
    "\n",
    "fragmenter = preference_comparisons.RandomFragmenter(warning_threshold=0, seed=0)\n",
    "gatherer = preference_comparisons.SyntheticGatherer(seed=0)\n",
    "reward_trainer = preference_comparisons.CrossEntropyRewardTrainer(\n",
    "    model=reward_net,\n",
    "    epochs=3,\n",
    ")\n",
    "\n",
    "agent = PPO(\n",
    "    policy=FeedForward32Policy,\n",
    "    policy_kwargs=dict(\n",
    "        features_extractor_class=NormalizeFeaturesExtractor,\n",
    "        features_extractor_kwargs=dict(normalize_class=RunningNorm),\n",
    "    ),\n",
    "    env=venv,\n",
    "    seed=0,\n",
    "    n_steps=2048 // venv.num_envs,\n",
    "    batch_size=64,\n",
    "    ent_coef=0.0,\n",
    "    learning_rate=0.0003,\n",
    "    n_epochs=10,\n",
    ")\n",
    "\n",
    "trajectory_generator = preference_comparisons.AgentTrainer(\n",
    "    algorithm=agent,\n",
    "    reward_fn=reward_net,\n",
    "    exploration_frac=0.0,\n",
    "    seed=0,\n",
    ")\n",
    "\n",
    "pref_comparisons = preference_comparisons.PreferenceComparisons(\n",
    "    trajectory_generator,\n",
    "    reward_net,\n",
    "    fragmenter=fragmenter,\n",
    "    preference_gatherer=gatherer,\n",
    "    reward_trainer=reward_trainer,\n",
    "    comparisons_per_iteration=100,\n",
    "    #comparison_queue_size=1000,\n",
    "    fragment_length=100,\n",
    "    transition_oversampling=1,\n",
    "    initial_comparison_frac=0.1,\n",
    "    allow_variable_horizon=False,\n",
    "    seed=0,\n",
    "    initial_epoch_multiplier=1,\n",
    ")"
   ]
  },
  {
   "cell_type": "markdown",
   "metadata": {},
   "source": [
    "Then we can start training the reward model. Note that we need to specify the total timesteps that the agent should be trained and how many fragment comparisons should be made."
   ]
  },
  {
   "cell_type": "code",
   "execution_count": 2,
   "metadata": {},
   "outputs": [
    {
     "name": "stdout",
     "output_type": "stream",
     "text": [
      "Collecting 200 fragments (20000 transitions)\n",
      "Requested 20000 transitions but only 0 in buffer. Sampling 20000 additional transitions.\n",
      "Creating fragment pairs\n",
      "Gathering preferences\n",
      "Dataset now contains 100 comparisons\n"
     ]
    },
    {
     "name": "stderr",
     "output_type": "stream",
     "text": [
      "Training reward model: 100%|██████████| 3/3 [00:44<00:00, 14.88s/it]"
     ]
    },
    {
     "name": "stdout",
     "output_type": "stream",
     "text": [
      "Training agent for 2500 timesteps\n"
     ]
    },
    {
     "name": "stderr",
     "output_type": "stream",
     "text": [
      "\n"
     ]
    },
    {
     "name": "stdout",
     "output_type": "stream",
     "text": [
      "----------------------------------\n",
      "| raw/                    |      |\n",
      "|    agent/time/fps       | 407  |\n",
      "|    agent/time/iterat... | 1    |\n",
      "|    agent/time/time_e... | 5    |\n",
      "|    agent/time/total_... | 2048 |\n",
      "----------------------------------\n",
      "------------------------------------------\n",
      "| raw/                    |              |\n",
      "|    agent/rollout/ep_... | -3.9         |\n",
      "|    agent/time/fps       | 365          |\n",
      "|    agent/time/iterat... | 2            |\n",
      "|    agent/time/time_e... | 11           |\n",
      "|    agent/time/total_... | 4096         |\n",
      "|    agent/train/appro... | 0.0012673859 |\n",
      "|    agent/train/clip_... | 0.2          |\n",
      "|    agent/train/entro... | -1.43        |\n",
      "|    agent/train/expla... | -0.0589      |\n",
      "|    agent/train/learn... | 0.0003       |\n",
      "|    agent/train/loss     | 0.258        |\n",
      "|    agent/train/n_upd... | 10           |\n",
      "|    agent/train/polic... | -0.000973    |\n",
      "|    agent/train/std      | 1.01         |\n",
      "|    agent/train/value... | 0.752        |\n",
      "------------------------------------------\n",
      "--------------------------------------\n",
      "| mean/                   |          |\n",
      "|    agent/rollout/ep_... | -3.9     |\n",
      "|    agent/time/fps       | 386      |\n",
      "|    agent/time/iterat... | 1.5      |\n",
      "|    agent/time/time_e... | 8        |\n",
      "|    agent/time/total_... | 3.07e+03 |\n",
      "|    agent/train/appro... | 0.00201  |\n",
      "|    agent/train/clip_... | 0.2      |\n",
      "|    agent/train/entro... | -1.43    |\n",
      "|    agent/train/expla... | 0.284    |\n",
      "|    agent/train/learn... | 0.0003   |\n",
      "|    agent/train/loss     | 0.35     |\n",
      "|    agent/train/n_upd... | 15       |\n",
      "|    agent/train/polic... | -0.00118 |\n",
      "|    agent/train/std      | 1.01     |\n",
      "|    agent/train/value... | 0.911    |\n",
      "|    preferences/entropy  | 0.00688  |\n",
      "|    reward/accuracy      | 0.948    |\n",
      "|    reward/loss          | 0.135    |\n",
      "--------------------------------------\n",
      "Collecting 200 fragments (20000 transitions)\n",
      "Requested 20000 transitions but only 3200 in buffer. Sampling 16800 additional transitions.\n",
      "Creating fragment pairs\n",
      "Gathering preferences\n",
      "Dataset now contains 200 comparisons\n"
     ]
    },
    {
     "name": "stderr",
     "output_type": "stream",
     "text": [
      "Training reward model: 100%|██████████| 3/3 [01:29<00:00, 29.83s/it]"
     ]
    },
    {
     "name": "stdout",
     "output_type": "stream",
     "text": [
      "Training agent for 2500 timesteps\n"
     ]
    },
    {
     "name": "stderr",
     "output_type": "stream",
     "text": [
      "\n"
     ]
    },
    {
     "name": "stdout",
     "output_type": "stream",
     "text": [
      "------------------------------------------\n",
      "| raw/                    |              |\n",
      "|    agent/rollout/ep_... | -6.32        |\n",
      "|    agent/time/fps       | 420          |\n",
      "|    agent/time/iterat... | 1            |\n",
      "|    agent/time/time_e... | 4            |\n",
      "|    agent/time/total_... | 6144         |\n",
      "|    agent/train/appro... | 0.0027511786 |\n",
      "|    agent/train/clip_... | 0.2          |\n",
      "|    agent/train/entro... | -1.43        |\n",
      "|    agent/train/expla... | 0.628        |\n",
      "|    agent/train/learn... | 0.0003       |\n",
      "|    agent/train/loss     | 0.442        |\n",
      "|    agent/train/n_upd... | 20           |\n",
      "|    agent/train/polic... | -0.00138     |\n",
      "|    agent/train/std      | 1            |\n",
      "|    agent/train/value... | 1.07         |\n",
      "------------------------------------------\n",
      "------------------------------------------\n",
      "| raw/                    |              |\n",
      "|    agent/rollout/ep_... | -0.77        |\n",
      "|    agent/time/fps       | 373          |\n",
      "|    agent/time/iterat... | 2            |\n",
      "|    agent/time/time_e... | 10           |\n",
      "|    agent/time/total_... | 8192         |\n",
      "|    agent/train/appro... | 0.0038553458 |\n",
      "|    agent/train/clip_... | 0.2          |\n",
      "|    agent/train/entro... | -1.41        |\n",
      "|    agent/train/expla... | 0.688        |\n",
      "|    agent/train/learn... | 0.0003       |\n",
      "|    agent/train/loss     | 0.519        |\n",
      "|    agent/train/n_upd... | 30           |\n",
      "|    agent/train/polic... | -0.00116     |\n",
      "|    agent/train/std      | 0.987        |\n",
      "|    agent/train/value... | 1.59         |\n",
      "------------------------------------------\n",
      "--------------------------------------\n",
      "| mean/                   |          |\n",
      "|    agent/rollout/ep_... | -3.54    |\n",
      "|    agent/time/fps       | 396      |\n",
      "|    agent/time/iterat... | 1.5      |\n",
      "|    agent/time/time_e... | 7        |\n",
      "|    agent/time/total_... | 7.17e+03 |\n",
      "|    agent/train/appro... | 0.00466  |\n",
      "|    agent/train/clip_... | 0.2      |\n",
      "|    agent/train/entro... | -1.4     |\n",
      "|    agent/train/expla... | 0.756    |\n",
      "|    agent/train/learn... | 0.0003   |\n",
      "|    agent/train/loss     | 0.464    |\n",
      "|    agent/train/n_upd... | 35       |\n",
      "|    agent/train/polic... | -0.00225 |\n",
      "|    agent/train/std      | 0.972    |\n",
      "|    agent/train/value... | 1.32     |\n",
      "|    preferences/entropy  | 0.00703  |\n",
      "|    reward/accuracy      | 0.954    |\n",
      "|    reward/loss          | 0.16     |\n",
      "--------------------------------------\n",
      "Collecting 200 fragments (20000 transitions)\n",
      "Requested 20000 transitions but only 3200 in buffer. Sampling 16800 additional transitions.\n",
      "Creating fragment pairs\n",
      "Gathering preferences\n",
      "Dataset now contains 300 comparisons\n"
     ]
    },
    {
     "name": "stderr",
     "output_type": "stream",
     "text": [
      "Training reward model: 100%|██████████| 3/3 [02:14<00:00, 44.74s/it]"
     ]
    },
    {
     "name": "stdout",
     "output_type": "stream",
     "text": [
      "Training agent for 2500 timesteps\n"
     ]
    },
    {
     "name": "stderr",
     "output_type": "stream",
     "text": [
      "\n"
     ]
    },
    {
     "name": "stdout",
     "output_type": "stream",
     "text": [
      "------------------------------------------\n",
      "| raw/                    |              |\n",
      "|    agent/rollout/ep_... | 0.463        |\n",
      "|    agent/time/fps       | 424          |\n",
      "|    agent/time/iterat... | 1            |\n",
      "|    agent/time/time_e... | 4            |\n",
      "|    agent/time/total_... | 10240        |\n",
      "|    agent/train/appro... | 0.0054630716 |\n",
      "|    agent/train/clip_... | 0.2          |\n",
      "|    agent/train/entro... | -1.39        |\n",
      "|    agent/train/expla... | 0.823        |\n",
      "|    agent/train/learn... | 0.0003       |\n",
      "|    agent/train/loss     | 0.408        |\n",
      "|    agent/train/n_upd... | 40           |\n",
      "|    agent/train/polic... | -0.00335     |\n",
      "|    agent/train/std      | 0.957        |\n",
      "|    agent/train/value... | 1.05         |\n",
      "------------------------------------------\n",
      "------------------------------------------\n",
      "| raw/                    |              |\n",
      "|    agent/rollout/ep_... | 0.569        |\n",
      "|    agent/time/fps       | 373          |\n",
      "|    agent/time/iterat... | 2            |\n",
      "|    agent/time/time_e... | 10           |\n",
      "|    agent/time/total_... | 12288        |\n",
      "|    agent/train/appro... | 0.0043588514 |\n",
      "|    agent/train/clip_... | 0.2          |\n",
      "|    agent/train/entro... | -1.37        |\n",
      "|    agent/train/expla... | 0.912        |\n",
      "|    agent/train/learn... | 0.0003       |\n",
      "|    agent/train/loss     | 0.127        |\n",
      "|    agent/train/n_upd... | 50           |\n",
      "|    agent/train/polic... | -0.00408     |\n",
      "|    agent/train/std      | 0.95         |\n",
      "|    agent/train/value... | 0.586        |\n",
      "------------------------------------------\n",
      "--------------------------------------\n",
      "| mean/                   |          |\n",
      "|    agent/rollout/ep_... | 0.516    |\n",
      "|    agent/time/fps       | 398      |\n",
      "|    agent/time/iterat... | 1.5      |\n",
      "|    agent/time/time_e... | 7        |\n",
      "|    agent/time/total_... | 1.13e+04 |\n",
      "|    agent/train/appro... | 0.00419  |\n",
      "|    agent/train/clip_... | 0.2      |\n",
      "|    agent/train/entro... | -1.36    |\n",
      "|    agent/train/expla... | 0.944    |\n",
      "|    agent/train/learn... | 0.0003   |\n",
      "|    agent/train/loss     | 0.112    |\n",
      "|    agent/train/n_upd... | 55       |\n",
      "|    agent/train/polic... | -0.00306 |\n",
      "|    agent/train/std      | 0.941    |\n",
      "|    agent/train/value... | 0.405    |\n",
      "|    preferences/entropy  | 0.00817  |\n",
      "|    reward/accuracy      | 0.917    |\n",
      "|    reward/loss          | 0.203    |\n",
      "--------------------------------------\n",
      "Collecting 200 fragments (20000 transitions)\n",
      "Requested 20000 transitions but only 3200 in buffer. Sampling 16800 additional transitions.\n",
      "Creating fragment pairs\n",
      "Gathering preferences\n",
      "Dataset now contains 400 comparisons\n"
     ]
    },
    {
     "name": "stderr",
     "output_type": "stream",
     "text": [
      "Training reward model: 100%|██████████| 3/3 [02:58<00:00, 59.56s/it]"
     ]
    },
    {
     "name": "stdout",
     "output_type": "stream",
     "text": [
      "Training agent for 2500 timesteps\n"
     ]
    },
    {
     "name": "stderr",
     "output_type": "stream",
     "text": [
      "\n"
     ]
    },
    {
     "name": "stdout",
     "output_type": "stream",
     "text": [
      "------------------------------------------\n",
      "| raw/                    |              |\n",
      "|    agent/rollout/ep_... | -0.898       |\n",
      "|    agent/time/fps       | 419          |\n",
      "|    agent/time/iterat... | 1            |\n",
      "|    agent/time/time_e... | 4            |\n",
      "|    agent/time/total_... | 14336        |\n",
      "|    agent/train/appro... | 0.0040166993 |\n",
      "|    agent/train/clip_... | 0.2          |\n",
      "|    agent/train/entro... | -1.36        |\n",
      "|    agent/train/expla... | 0.976        |\n",
      "|    agent/train/learn... | 0.0003       |\n",
      "|    agent/train/loss     | 0.0956       |\n",
      "|    agent/train/n_upd... | 60           |\n",
      "|    agent/train/polic... | -0.00204     |\n",
      "|    agent/train/std      | 0.933        |\n",
      "|    agent/train/value... | 0.224        |\n",
      "------------------------------------------\n",
      "-----------------------------------------\n",
      "| raw/                    |             |\n",
      "|    agent/rollout/ep_... | -1.6        |\n",
      "|    agent/time/fps       | 372         |\n",
      "|    agent/time/iterat... | 2           |\n",
      "|    agent/time/time_e... | 10          |\n",
      "|    agent/time/total_... | 16384       |\n",
      "|    agent/train/appro... | 0.003517898 |\n",
      "|    agent/train/clip_... | 0.2         |\n",
      "|    agent/train/entro... | -1.34       |\n",
      "|    agent/train/expla... | 0.959       |\n",
      "|    agent/train/learn... | 0.0003      |\n",
      "|    agent/train/loss     | 0.133       |\n",
      "|    agent/train/n_upd... | 70          |\n",
      "|    agent/train/polic... | -0.0038     |\n",
      "|    agent/train/std      | 0.923       |\n",
      "|    agent/train/value... | 0.404       |\n",
      "-----------------------------------------\n",
      "--------------------------------------\n",
      "| mean/                   |          |\n",
      "|    agent/rollout/ep_... | -1.25    |\n",
      "|    agent/time/fps       | 396      |\n",
      "|    agent/time/iterat... | 1.5      |\n",
      "|    agent/time/time_e... | 7        |\n",
      "|    agent/time/total_... | 1.54e+04 |\n",
      "|    agent/train/appro... | 0.00432  |\n",
      "|    agent/train/clip_... | 0.2      |\n",
      "|    agent/train/entro... | -1.34    |\n",
      "|    agent/train/expla... | 0.968    |\n",
      "|    agent/train/learn... | 0.0003   |\n",
      "|    agent/train/loss     | 0.128    |\n",
      "|    agent/train/n_upd... | 75       |\n",
      "|    agent/train/polic... | -0.00486 |\n",
      "|    agent/train/std      | 0.919    |\n",
      "|    agent/train/value... | 0.39     |\n",
      "|    preferences/entropy  | 0.025    |\n",
      "|    reward/accuracy      | 0.943    |\n",
      "|    reward/loss          | 0.141    |\n",
      "--------------------------------------\n"
     ]
    },
    {
     "data": {
      "text/plain": [
       "{'reward_loss': 0.0, 'reward_accuracy': 0.0}"
      ]
     },
     "execution_count": 2,
     "metadata": {},
     "output_type": "execute_result"
    }
   ],
   "source": [
    "pref_comparisons.train(\n",
    "    total_timesteps=10_000,\n",
    "    total_comparisons=500,\n",
    ")"
   ]
  },
  {
   "cell_type": "code",
   "execution_count": 8,
   "metadata": {},
   "outputs": [
    {
     "name": "stderr",
     "output_type": "stream",
     "text": [
      "/home/norabelrose/miniforge3/lib/python3.9/site-packages/gym/spaces/box.py:73: UserWarning: \u001b[33mWARN: Box bound precision lowered by casting to float32\u001b[0m\n",
      "  logger.warn(\n"
     ]
    }
   ],
   "source": [
    "eval_env = gym.make(\"Pendulum-v1\")\n",
    "obs = eval_env.reset()\n",
    "rews = []\n",
    "dones = []\n",
    "\n",
    "for _ in range(10000):\n",
    "    action, _ = agent.predict(obs)\n",
    "    obs, rew, done, _ = eval_env.step(action)\n",
    "    if done:\n",
    "        obs = eval_env.reset()\n",
    "    \n",
    "    rews.append(rew)\n",
    "    dones.append(done)\n",
    "    # frame = eval_env.render('rgb_array')\n",
    "    # frames.append(frame)\n"
   ]
  },
  {
   "cell_type": "code",
   "execution_count": 9,
   "metadata": {},
   "outputs": [
    {
     "data": {
      "text/plain": [
       "20"
      ]
     },
     "execution_count": 9,
     "metadata": {},
     "output_type": "execute_result"
    }
   ],
   "source": [
    "import numpy as np\n",
    "np.sum(dones)"
   ]
  },
  {
   "cell_type": "markdown",
   "metadata": {},
   "source": [
    "After we trained the reward network using the preference comparisons algorithm, we can wrap our environment with that learned reward."
   ]
  },
  {
   "cell_type": "code",
   "execution_count": 3,
   "metadata": {},
   "outputs": [],
   "source": [
    "from imitation.rewards.reward_wrapper import RewardVecEnvWrapper\n",
    "\n",
    "\n",
    "learned_reward_venv = RewardVecEnvWrapper(venv, reward_net.predict)"
   ]
  },
  {
   "cell_type": "markdown",
   "metadata": {},
   "source": [
    "Now we can train an agent, that only sees those learned reward."
   ]
  },
  {
   "cell_type": "code",
   "execution_count": 4,
   "metadata": {},
   "outputs": [
    {
     "data": {
      "text/plain": [
       "<stable_baselines3.ppo.ppo.PPO at 0x7f92dc43a580>"
      ]
     },
     "execution_count": 4,
     "metadata": {},
     "output_type": "execute_result"
    }
   ],
   "source": [
    "from stable_baselines3 import PPO\n",
    "from stable_baselines3.ppo import MlpPolicy\n",
    "\n",
    "learner = PPO(\n",
    "    policy=MlpPolicy,\n",
    "    env=learned_reward_venv,\n",
    "    seed=0,\n",
    "    batch_size=64,\n",
    "    ent_coef=0.0,\n",
    "    learning_rate=0.0003,\n",
    "    n_epochs=10,\n",
    "    n_steps=64,\n",
    ")\n",
    "learner.learn(1000)  # Note: set to 100000 to train a proficient expert"
   ]
  },
  {
   "cell_type": "markdown",
   "metadata": {},
   "source": [
    "Then we can evaluate it using the original reward."
   ]
  },
  {
   "cell_type": "code",
   "execution_count": 5,
   "metadata": {},
   "outputs": [
    {
     "name": "stderr",
     "output_type": "stream",
     "text": [
      "/home/norabelrose/miniforge3/lib/python3.9/site-packages/stable_baselines3/common/evaluation.py:65: UserWarning: Evaluation environment is not wrapped with a ``Monitor`` wrapper. This may result in reporting modified episode lengths and rewards, if other wrappers happen to modify these. Consider wrapping environment first with ``Monitor`` wrapper.\n",
      "  warnings.warn(\n"
     ]
    },
    {
     "name": "stdout",
     "output_type": "stream",
     "text": [
      "8.6\n"
     ]
    }
   ],
   "source": [
    "from stable_baselines3.common.evaluation import evaluate_policy\n",
    "\n",
    "reward, _ = evaluate_policy(learner.policy, venv, 10)\n",
    "print(reward)"
   ]
  }
 ],
 "metadata": {
  "interpreter": {
   "hash": "439158cd89905785fcc749928062ade7bfccc3f087fab145e5671f895c635937"
  },
  "kernelspec": {
   "display_name": "Python 3.9.13 ('base')",
   "language": "python",
   "name": "python3"
  },
  "language_info": {
   "codemirror_mode": {
    "name": "ipython",
    "version": 3
   },
   "file_extension": ".py",
   "mimetype": "text/x-python",
   "name": "python",
   "nbconvert_exporter": "python",
   "pygments_lexer": "ipython3",
   "version": "3.9.13"
  }
 },
 "nbformat": 4,
 "nbformat_minor": 2
}
