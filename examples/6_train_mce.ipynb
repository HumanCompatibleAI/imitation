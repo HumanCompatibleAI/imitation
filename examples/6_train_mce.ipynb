{
 "cells": [
  {
   "cell_type": "markdown",
   "metadata": {},
   "source": [
    "# Learn a Reward Function using Maximum Conditional Entropy Inverse Reinforcement Learning\n",
    "\n",
    "Here, we're going to take a tabular environment with a pre-defined reward function, Cliffworld, and solve for the optimal policy. We then generate demonstrations from this policy, and use them to learn an approximation to the true reward function with MCE IRL. Since we know the ground truth reward function in this example, we can directly compare it to the learned reward."
   ]
  },
  {
   "cell_type": "markdown",
   "metadata": {},
   "source": [
    "Cliffworld is a POMDP, and its \"observations\" consist of the observations proper and the hidden environment state. We use `DictExtractWrapper` to extract only the hidden states from the environment, turning it into a fully observable MDP to make computing the optimal policy easy."
   ]
  },
  {
   "cell_type": "code",
   "execution_count": 2,
   "metadata": {},
   "outputs": [],
   "source": [
    "from functools import partial\n",
    "from imitation.algorithms.mce_irl import (\n",
    "    MCEIRL,\n",
    "    mce_occupancy_measures,\n",
    "    mce_partition_fh,\n",
    "    TabularPolicy,\n",
    ")\n",
    "\n",
    "from imitation.data import rollout\n",
    "from imitation.envs import resettable_env\n",
    "from imitation.envs.examples.model_envs import CliffWorld\n",
    "from stable_baselines3.common.vec_env import DummyVecEnv\n",
    "from imitation.rewards import reward_nets\n",
    "\n",
    "\n",
    "env_creator = partial(CliffWorld, height=4, horizon=8, width=7, use_xy_obs=True)\n",
    "env_single = env_creator()\n",
    "\n",
    "# This is just a vectorized environment because `generate_trajectories` expects one\n",
    "state_venv = resettable_env.DictExtractWrapper(\n",
    "    DummyVecEnv([env_creator] * 4), \"state\"\n",
    ")"
   ]
  },
  {
   "cell_type": "markdown",
   "metadata": {},
   "source": [
    "Then we derive an expert policy using Bellman backups. We analytically compute the occupancy measures, and also sample some expert trajectories."
   ]
  },
  {
   "cell_type": "code",
   "execution_count": 18,
   "metadata": {},
   "outputs": [
    {
     "name": "stdout",
     "output_type": "stream",
     "text": [
      "Expert stats:  {'n_traj': 628, 'return_min': -24.0, 'return_mean': 6.146496815286624, 'return_std': 8.646132589013723, 'return_max': 14.0, 'len_min': 8, 'len_mean': 8.0, 'len_std': 0.0, 'len_max': 8}\n"
     ]
    }
   ],
   "source": [
    "import matplotlib.pyplot as plt\n",
    "\n",
    "_, _, pi = mce_partition_fh(env_single)\n",
    "\n",
    "_, om = mce_occupancy_measures(env_single, pi=pi)\n",
    "\n",
    "expert = TabularPolicy(\n",
    "    state_space=env_single.pomdp_state_space,\n",
    "    action_space=env_single.action_space,\n",
    "    pi=pi,\n",
    "    rng=None,\n",
    ")\n",
    "\n",
    "expert_trajs = rollout.generate_trajectories(\n",
    "    policy=expert,\n",
    "    venv=state_venv,\n",
    "    sample_until=rollout.make_min_timesteps(5000),\n",
    ")\n",
    "\n",
    "print(\"Expert stats: \", rollout.rollout_stats(expert_trajs))"
   ]
  },
  {
   "cell_type": "markdown",
   "metadata": {},
   "source": [
    "### Training the reward function\n",
    "\n",
    "The true reward here is not linear in the reduced feature space (i.e $(x,y)$ coordinates). Finding an appropriate linear reward is impossible, but an MLP should Just Work™."
   ]
  },
  {
   "cell_type": "code",
   "execution_count": 61,
   "metadata": {},
   "outputs": [],
   "source": [
    "import matplotlib.pyplot as plt\n",
    "import torch as th\n",
    "import numpy as np\n",
    "\n",
    "def train_mce_irl(demos, hidden_sizes, lr = 0.01, **kwargs):\n",
    "    reward_net = reward_nets.BasicRewardNet(\n",
    "        env_single.pomdp_observation_space,\n",
    "        env_single.action_space,\n",
    "        hid_sizes=hidden_sizes,\n",
    "        use_action=False,\n",
    "        use_done=False,\n",
    "        use_next_state=False,\n",
    "    )\n",
    "\n",
    "    mce_irl = MCEIRL(\n",
    "        demos, env_single, reward_net,\n",
    "        log_interval=250,\n",
    "        optimizer_kwargs=dict(lr=lr)\n",
    "    )\n",
    "    occ_measure = mce_irl.train(**kwargs)\n",
    "\n",
    "    imitation_trajs = rollout.generate_trajectories(\n",
    "        policy=mce_irl.policy,\n",
    "        venv=state_venv,\n",
    "        sample_until=rollout.make_min_timesteps(5000),\n",
    "    )\n",
    "    print(\"Imitation stats: \", rollout.rollout_stats(imitation_trajs))\n",
    "\n",
    "    plt.figure(figsize=(10, 5))\n",
    "    plt.subplot(1, 2, 1)\n",
    "    env_single.draw_value_vec(occ_measure)\n",
    "    plt.title(\"Occupancy for learned reward\")\n",
    "    plt.subplot(1, 2, 2)\n",
    "    _, true_occ_measure = mce_occupancy_measures(env_single)\n",
    "    print(f\"{np.allclose(occ_measure, true_occ_measure)=}\")\n",
    "    env_single.draw_value_vec(true_occ_measure)\n",
    "    plt.title(\"Occupancy for true reward\")\n",
    "    plt.show()\n",
    "\n",
    "    plt.figure(figsize=(10, 5))\n",
    "    plt.subplot(1, 2, 1)\n",
    "    env_single.draw_value_vec(\n",
    "        reward_net(th.as_tensor(env_single.observation_matrix), None, None, None).detach().numpy()\n",
    "    )\n",
    "    plt.title(\"Learned reward\")\n",
    "    plt.subplot(1, 2, 2)\n",
    "    env_single.draw_value_vec(env_single.reward_matrix)\n",
    "    plt.title(\"True reward\")\n",
    "    plt.show()\n",
    "\n",
    "    return mce_irl"
   ]
  },
  {
   "cell_type": "markdown",
   "metadata": {},
   "source": [
    "As you can see, a linear reward model cannot fit the data. Even though we're training the model on analytically computed occupancy measures for the optimal policy, the resulting reward and occupancy frequencies diverge sharply."
   ]
  },
  {
   "cell_type": "code",
   "execution_count": 62,
   "metadata": {},
   "outputs": [
    {
     "name": "stdout",
     "output_type": "stream",
     "text": [
      "--------------------------\n",
      "| grad_norm   | 4.45     |\n",
      "| iteration   | 0        |\n",
      "| linf_delta  | 2.21     |\n",
      "| weight_norm | 0.86     |\n",
      "--------------------------\n",
      "--------------------------\n",
      "| grad_norm   | 1.52     |\n",
      "| iteration   | 250      |\n",
      "| linf_delta  | 1.8      |\n",
      "| weight_norm | 1.51     |\n",
      "--------------------------\n",
      "--------------------------\n",
      "| grad_norm   | 0.62     |\n",
      "| iteration   | 500      |\n",
      "| linf_delta  | 1.58     |\n",
      "| weight_norm | 2.4      |\n",
      "--------------------------\n",
      "--------------------------\n",
      "| grad_norm   | 0.378    |\n",
      "| iteration   | 750      |\n",
      "| linf_delta  | 1.49     |\n",
      "| weight_norm | 3        |\n",
      "--------------------------\n",
      "Imitation stats:  {'n_traj': 628, 'return_min': -71.0, 'return_mean': -23.10987261146497, 'return_std': 14.727969556083373, 'return_max': 14.0, 'len_min': 8, 'len_mean': 8.0, 'len_std': 0.0, 'len_max': 8}\n",
      "np.allclose(occ_measure, true_occ_measure)=False\n"
     ]
    },
    {
     "data": {
      "image/png": "[encoded data removed]",
      "text/plain": [
       "<Figure size 720x360 with 2 Axes>"
      ]
     },
     "metadata": {
      "needs_background": "light"
     },
     "output_type": "display_data"
    },
    {
     "data": {
      "image/png": "[encoded data removed]",
      "text/plain": [
       "<Figure size 720x360 with 2 Axes>"
      ]
     },
     "metadata": {
      "needs_background": "light"
     },
     "output_type": "display_data"
    },
    {
     "data": {
      "text/plain": [
       "<imitation.algorithms.mce_irl.MCEIRL at 0x7fae4076f550>"
      ]
     },
     "execution_count": 62,
     "metadata": {},
     "output_type": "execute_result"
    }
   ],
   "source": [
    "train_mce_irl(om, hidden_sizes=[])"
   ]
  },
  {
   "cell_type": "markdown",
   "metadata": {},
   "source": [
    "Now, let's try using a very simple nonlinear reward model: an MLP with a single hidden layer. We first, we train it on the analytically computed occupancy measures. This should give a very precise result."
   ]
  },
  {
   "cell_type": "code",
   "execution_count": 63,
   "metadata": {},
   "outputs": [
    {
     "name": "stdout",
     "output_type": "stream",
     "text": [
      "--------------------------\n",
      "| grad_norm   | 16       |\n",
      "| iteration   | 0        |\n",
      "| linf_delta  | 2.03     |\n",
      "| weight_norm | 11.6     |\n",
      "--------------------------\n",
      "--------------------------\n",
      "| grad_norm   | 0.0708   |\n",
      "| iteration   | 250      |\n",
      "| linf_delta  | 0.044    |\n",
      "| weight_norm | 18.8     |\n",
      "--------------------------\n",
      "--------------------------\n",
      "| grad_norm   | 0.0686   |\n",
      "| iteration   | 500      |\n",
      "| linf_delta  | 0.016    |\n",
      "| weight_norm | 20.8     |\n",
      "--------------------------\n",
      "--------------------------\n",
      "| grad_norm   | 0.0159   |\n",
      "| iteration   | 750      |\n",
      "| linf_delta  | 0.00675  |\n",
      "| weight_norm | 22.6     |\n",
      "--------------------------\n",
      "Imitation stats:  {'n_traj': 628, 'return_min': -31.0, 'return_mean': 5.923566878980892, 'return_std': 8.550555091508137, 'return_max': 14.0, 'len_min': 8, 'len_mean': 8.0, 'len_std': 0.0, 'len_max': 8}\n",
      "np.allclose(occ_measure, true_occ_measure)=False\n"
     ]
    },
    {
     "data": {
      "image/png": "[encoded data removed]",
      "text/plain": [
       "<Figure size 720x360 with 2 Axes>"
      ]
     },
     "metadata": {
      "needs_background": "light"
     },
     "output_type": "display_data"
    },
    {
     "data": {
      "image/png": "[encoded data removed]",
      "text/plain": [
       "<Figure size 720x360 with 2 Axes>"
      ]
     },
     "metadata": {
      "needs_background": "light"
     },
     "output_type": "display_data"
    },
    {
     "data": {
      "text/plain": [
       "<imitation.algorithms.mce_irl.MCEIRL at 0x7fae5294a610>"
      ]
     },
     "execution_count": 63,
     "metadata": {},
     "output_type": "execute_result"
    }
   ],
   "source": [
    "train_mce_irl(om, hidden_sizes=[256])"
   ]
  },
  {
   "cell_type": "markdown",
   "metadata": {},
   "source": [
    "Then we train it on trajectories sampled from the expert. This gives a stochastic approximation to occupancy measure, so performance is a little worse. Using more expert trajectories should improve performance -- try it!"
   ]
  },
  {
   "cell_type": "code",
   "execution_count": 56,
   "metadata": {},
   "outputs": [
    {
     "name": "stdout",
     "output_type": "stream",
     "text": [
      "--------------------------\n",
      "| grad_norm   | 18.4     |\n",
      "| iteration   | 0        |\n",
      "| linf_delta  | 2.57     |\n",
      "| weight_norm | 11.7     |\n",
      "--------------------------\n",
      "--------------------------\n",
      "| grad_norm   | 1.99     |\n",
      "| iteration   | 100      |\n",
      "| linf_delta  | 0.644    |\n",
      "| weight_norm | 19.3     |\n",
      "--------------------------\n",
      "--------------------------\n",
      "| grad_norm   | 3.63     |\n",
      "| iteration   | 200      |\n",
      "| linf_delta  | 0.557    |\n",
      "| weight_norm | 36.5     |\n",
      "--------------------------\n",
      "--------------------------\n",
      "| grad_norm   | 5.46     |\n",
      "| iteration   | 300      |\n",
      "| linf_delta  | 0.555    |\n",
      "| weight_norm | 62.8     |\n",
      "--------------------------\n",
      "--------------------------\n",
      "| grad_norm   | 11.3     |\n",
      "| iteration   | 400      |\n",
      "| linf_delta  | 0.563    |\n",
      "| weight_norm | 92.9     |\n",
      "--------------------------\n",
      "--------------------------\n",
      "| grad_norm   | 14       |\n",
      "| iteration   | 500      |\n",
      "| linf_delta  | 0.558    |\n",
      "| weight_norm | 124      |\n",
      "--------------------------\n",
      "--------------------------\n",
      "| grad_norm   | 16.9     |\n",
      "| iteration   | 600      |\n",
      "| linf_delta  | 0.557    |\n",
      "| weight_norm | 154      |\n",
      "--------------------------\n",
      "--------------------------\n",
      "| grad_norm   | 20.6     |\n",
      "| iteration   | 700      |\n",
      "| linf_delta  | 0.579    |\n",
      "| weight_norm | 183      |\n",
      "--------------------------\n",
      "--------------------------\n",
      "| grad_norm   | 39.9     |\n",
      "| iteration   | 800      |\n",
      "| linf_delta  | 0.622    |\n",
      "| weight_norm | 211      |\n",
      "--------------------------\n",
      "--------------------------\n",
      "| grad_norm   | 34.4     |\n",
      "| iteration   | 900      |\n",
      "| linf_delta  | 0.589    |\n",
      "| weight_norm | 239      |\n",
      "--------------------------\n",
      "Imitation stats:  {'n_traj': 628, 'return_min': -22.0, 'return_mean': 5.106687898089172, 'return_std': 8.88728533481049, 'return_max': 14.0, 'len_min': 8, 'len_mean': 8.0, 'len_std': 0.0, 'len_max': 8}\n",
      "np.allclose(occ_measure, true_occ_measure)=False\n"
     ]
    },
    {
     "data": {
      "image/png": "[encoded data removed]",
      "text/plain": [
       "<Figure size 720x360 with 2 Axes>"
      ]
     },
     "metadata": {
      "needs_background": "light"
     },
     "output_type": "display_data"
    },
    {
     "data": {
      "image/png": "[encoded data removed]",
      "text/plain": [
       "<Figure size 432x288 with 2 Axes>"
      ]
     },
     "metadata": {
      "needs_background": "light"
     },
     "output_type": "display_data"
    }
   ],
   "source": [
    "mce_irl_from_trajs = train_mce_irl(expert_trajs[0:10], hidden_sizes=[256])"
   ]
  },
  {
   "cell_type": "markdown",
   "metadata": {},
   "source": [
    "While the learned reward function is quite different from the true reward function, it induces a virtually identical occupancy measure over the states. In particular, states below the top row get almost the same reward as top-row states. This is because in Cliff World, there is an upward-blowing wind which will push the agent toward the top row with probability 0.3 at every timestep."
   ]
  }
 ],
 "metadata": {
  "interpreter": {
   "hash": "439158cd89905785fcc749928062ade7bfccc3f087fab145e5671f895c635937"
  },
  "kernelspec": {
   "display_name": "Python 3.9.13 ('base')",
   "language": "python",
   "name": "python3"
  },
  "language_info": {
   "codemirror_mode": {
    "name": "ipython",
    "version": 3
   },
   "file_extension": ".py",
   "mimetype": "text/x-python",
   "name": "python",
   "nbconvert_exporter": "python",
   "pygments_lexer": "ipython3",
   "version": "3.9.13"
  }
 },
 "nbformat": 4,
 "nbformat_minor": 2
}
